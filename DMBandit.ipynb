{
 "cells": [
  {
   "cell_type": "code",
   "execution_count": 1,
   "id": "6760dcf3",
   "metadata": {},
   "outputs": [],
   "source": [
    "import numpy as np\n",
    "from scipy.stats import dirichlet\n",
    "import matplotlib.pyplot as plt"
   ]
  },
  {
   "cell_type": "code",
   "execution_count": 2,
   "id": "5ff26d05",
   "metadata": {},
   "outputs": [],
   "source": [
    "%matplotlib inline"
   ]
  },
  {
   "cell_type": "code",
   "execution_count": 32,
   "id": "7277b4a1",
   "metadata": {},
   "outputs": [],
   "source": [
    "num_action = 6\n",
    "num_reward = 10\n",
    "num_trial = 1000\n",
    "\n",
    "\n",
    "action_set = [i for i in range(num_action)]"
   ]
  },
  {
   "cell_type": "code",
   "execution_count": 48,
   "id": "5a8512d0",
   "metadata": {},
   "outputs": [],
   "source": [
    "multinommial_param_set = np.array([np.random.uniform(0, 1, num_reward) for i in range(num_action)])\n",
    "multinommial_param_set = (multinommial_param_set.T / np.sum(multinommial_param_set, axis=1)).T"
   ]
  },
  {
   "cell_type": "code",
   "execution_count": null,
   "id": "d339662a",
   "metadata": {},
   "outputs": [],
   "source": [
    "base_param_set = np.array([[1/num_reward for i in range(num_reward)] for i in range(num_action)])\n",
    "print(base_param_set)"
   ]
  },
  {
   "cell_type": "code",
   "execution_count": 50,
   "id": "001efc9d",
   "metadata": {},
   "outputs": [],
   "source": [
    "oracle_ent = np.sum(multinommial_param_set*np.log(multinommial_param_set/base_param_set), axis=1)"
   ]
  },
  {
   "cell_type": "code",
   "execution_count": 51,
   "id": "286717ce",
   "metadata": {},
   "outputs": [
    {
     "data": {
      "text/plain": [
       "array([0.22418841, 0.11797305, 0.06080591, 0.26383643, 0.13955008,\n",
       "       0.32260893])"
      ]
     },
     "execution_count": 51,
     "metadata": {},
     "output_type": "execute_result"
    }
   ],
   "source": [
    "oracle_ent"
   ]
  },
  {
   "cell_type": "code",
   "execution_count": 52,
   "id": "ee39c922",
   "metadata": {},
   "outputs": [],
   "source": [
    "log_reward = np.zeros((num_action, num_reward))\n",
    "prior = np.ones(num_reward)\n",
    "cum_reward_list = []\n",
    "pull_arm_list = np.zeros(num_action)\n",
    "pull_arm_list2 = []\n",
    "\n",
    "for trial in range(num_trial):\n",
    "    if trial < num_action:\n",
    "        pull_arm = trial\n",
    "        \n",
    "    else:\n",
    "        action_posterior_set = []\n",
    "        \n",
    "        for a in range(num_action):\n",
    "            posterior_samples = dirichlet.rvs(prior+log_reward[a], size=1)\n",
    "            posterior_ent = np.sum(posterior_samples*np.log(posterior_samples/base_param_set[a]), axis=1)\n",
    "            action_posterior_set.append(posterior_ent)\n",
    "            \n",
    "            \n",
    "        pull_arm = np.argmax(action_posterior_set)\n",
    "    \n",
    "    reward = np.random.multinomial(1, multinommial_param_set[pull_arm])\n",
    "    log_reward[pull_arm, np.where(reward == 1)] += 1\n",
    "    \n",
    "    cum_reward_list.append(oracle_ent[pull_arm])\n",
    "    pull_arm_list[pull_arm] += 1\n",
    "    pull_arm_list2.append(pull_arm)"
   ]
  },
  {
   "cell_type": "code",
   "execution_count": 53,
   "id": "34239d06",
   "metadata": {},
   "outputs": [
    {
     "data": {
      "text/plain": [
       "array([123.,  59.,  28., 387.,  41., 362.])"
      ]
     },
     "execution_count": 53,
     "metadata": {},
     "output_type": "execute_result"
    }
   ],
   "source": [
    "pull_arm_list"
   ]
  },
  {
   "cell_type": "code",
   "execution_count": 54,
   "id": "5d00b917",
   "metadata": {},
   "outputs": [
    {
     "data": {
      "text/plain": [
       "(array([123.,   0.,  59.,   0.,  28.,   0., 387.,   0.,  41., 362.]),\n",
       " array([0. , 0.5, 1. , 1.5, 2. , 2.5, 3. , 3.5, 4. , 4.5, 5. ]),\n",
       " <BarContainer object of 10 artists>)"
      ]
     },
     "execution_count": 54,
     "metadata": {},
     "output_type": "execute_result"
    },
    {
     "data": {
      "image/png": "[encoded data removed]",
      "text/plain": [
       "<Figure size 640x480 with 1 Axes>"
      ]
     },
     "metadata": {},
     "output_type": "display_data"
    }
   ],
   "source": [
    "plt.hist(pull_arm_list2)"
   ]
  },
  {
   "cell_type": "code",
   "execution_count": null,
   "id": "412bfa8f",
   "metadata": {},
   "outputs": [],
   "source": []
  }
 ],
 "metadata": {
  "kernelspec": {
   "display_name": "venv",
   "language": "python",
   "name": "python3"
  },
  "language_info": {
   "codemirror_mode": {
    "name": "ipython",
    "version": 3
   },
   "file_extension": ".py",
   "mimetype": "text/x-python",
   "name": "python",
   "nbconvert_exporter": "python",
   "pygments_lexer": "ipython3",
   "version": "3.12.7"
  }
 },
 "nbformat": 4,
 "nbformat_minor": 5
}
